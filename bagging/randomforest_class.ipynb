{
 "cells": [
  {
   "cell_type": "code",
   "execution_count": 1,
   "id": "5d21d0da",
   "metadata": {},
   "outputs": [],
   "source": [
    "# import libraries\n",
    "from sklearn.ensemble import RandomForestClassifier\n",
    "from sklearn.datasets import load_breast_cancer\n",
    "from sklearn.model_selection import train_test_split\n",
    "from sklearn.metrics import accuracy_score, classification_report"
   ]
  },
  {
   "cell_type": "code",
   "execution_count": 2,
   "id": "7010ab55",
   "metadata": {},
   "outputs": [],
   "source": [
    "# load dataset: breast cancer veri seti\n",
    "cancer = load_breast_cancer()\n",
    "X = cancer.data  # features: örn. tumor boyutu, şekli, alanı ...\n",
    "y = cancer.target  # hedef değişken 0: malignant (kötü), 1: benign (iyi)\n",
    "\n",
    "# veriyi train ve test veri setleri olarak ikiye ayır\n",
    "X_train, X_test, y_train, y_test = train_test_split(X, y, test_size=0.3, random_state=42)"
   ]
  },
  {
   "cell_type": "code",
   "execution_count": 3,
   "id": "cf0e08bf",
   "metadata": {},
   "outputs": [],
   "source": [
    "# create random forest model\n",
    "rf_model = RandomForestClassifier(\n",
    "    n_estimators=100,         # ağaç sayısı\n",
    "    max_depth=10,             # maksimum derinlik\n",
    "    min_samples_split=5,      # bir düğümü bölmek için minimum örnek sayısı\n",
    "    random_state=42\n",
    ")"
   ]
  },
  {
   "cell_type": "code",
   "execution_count": 4,
   "metadata": {},
   "outputs": [],
   "source": [
    "# training\n",
    "rf_model.fit(X_train, y_train)\n",
    "\n",
    "# testing\n",
    "y_pred = rf_model.predict(X_test)"
   ]
  },
  {
   "cell_type": "code",
   "execution_count": 5,
   "id": "370c7a58",
   "metadata": {},
   "outputs": [
    {
     "name": "stdout",
     "output_type": "stream",
     "text": [
      "Accuracy: 0.9590643274853801\n",
      "              precision    recall  f1-score   support\n",
      "\n",
      "           0       0.97      0.92      0.94        63\n",
      "           1       0.95      0.98      0.97       108\n",
      "\n",
      "    accuracy                           0.96       171\n",
      "   macro avg       0.96      0.95      0.96       171\n",
      "weighted avg       0.96      0.96      0.96       171\n",
      "\n"
     ]
    }
   ],
   "source": [
    "# evaluation: accuracy ve classification report\n",
    "accuracy = accuracy_score(y_test, y_pred)\n",
    "print(f\"Accuracy: {accuracy}\")\n",
    "print(classification_report(y_test, y_pred))"
   ]
  }
 ],
 "metadata": {
  "kernelspec": {
   "display_name": "Python 3",
   "language": "python",
   "name": "python3"
  },
  "language_info": {
   "codemirror_mode": {
    "name": "ipython",
    "version": 3
   },
   "file_extension": ".py",
   "mimetype": "text/x-python",
   "name": "python",
   "nbconvert_exporter": "python",
   "pygments_lexer": "ipython3",
   "version": "3.11.4"
  }
 },
 "nbformat": 4,
 "nbformat_minor": 5
}
