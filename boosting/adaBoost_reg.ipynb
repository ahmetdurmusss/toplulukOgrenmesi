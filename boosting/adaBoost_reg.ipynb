{
 "cells": [
  {
   "cell_type": "code",
   "execution_count": 1,
   "id": "a9bd4fa0",
   "metadata": {},
   "outputs": [],
   "source": [
    "# import libraries\n",
    "import numpy as np\n",
    "from sklearn.ensemble import AdaBoostRegressor\n",
    "from sklearn.datasets import fetch_california_housing\n",
    "from sklearn.model_selection import train_test_split\n",
    "from sklearn.metrics import mean_squared_error, r2_score"
   ]
  },
  {
   "cell_type": "code",
   "execution_count": 2,
   "id": "063b1afe",
   "metadata": {},
   "outputs": [],
   "source": [
    "# load dataset: house price prediction\n",
    "data = fetch_california_housing(as_frame=True)\n",
    "X = data.data[[\"MedInc\", \"AveRooms\", \"HouseAge\"]]  # sadece bazı özellikler seçildi\n",
    "y = data.target  # hedef değişken: ev fiyatı\n",
    "\n",
    "# train test split\n",
    "X_train, X_test, y_train, y_test = train_test_split(X, y, test_size=0.3, random_state=42)"
   ]
  },
  {
   "cell_type": "code",
   "execution_count": 3,
   "id": "5e9cda13",
   "metadata": {},
   "outputs": [],
   "source": [
    "# define adaboost regressor\n",
    "ada_reg = AdaBoostRegressor(\n",
    "    n_estimators=500,     # weak learner sayısı (decision tree)\n",
    "    learning_rate=0.01,   # öğrenme oranı\n",
    "    random_state=42\n",
    ")"
   ]
  },
  {
   "cell_type": "code",
   "execution_count": 4,
   "id": "949c32e7",
   "metadata": {},
   "outputs": [],
   "source": [
    "# model training\n",
    "ada_reg.fit(X_train, y_train)\n",
    "\n",
    "# testing\n",
    "y_pred = ada_reg.predict(X_test)"
   ]
  },
  {
   "cell_type": "code",
   "execution_count": 5,
   "id": "249ab7cc",
   "metadata": {},
   "outputs": [
    {
     "name": "stdout",
     "output_type": "stream",
     "text": [
      "Adaboost regresyon RMSE: 0.7928726590918683\n",
      "Adaboost regresyon R2: 0.5210454524071876\n"
     ]
    }
   ],
   "source": [
    "# performance evaluation: RMSE ve R2 score\n",
    "print(f\"Adaboost regresyon RMSE: {np.sqrt(mean_squared_error(y_test, y_pred))}\")\n",
    "print(f\"Adaboost regresyon R2: {r2_score(y_test, y_pred)}\")"
   ]
  }
 ],
 "metadata": {
  "kernelspec": {
   "display_name": "Python 3",
   "language": "python",
   "name": "python3"
  },
  "language_info": {
   "codemirror_mode": {
    "name": "ipython",
    "version": 3
   },
   "file_extension": ".py",
   "mimetype": "text/x-python",
   "name": "python",
   "nbconvert_exporter": "python",
   "pygments_lexer": "ipython3",
   "version": "3.11.4"
  }
 },
 "nbformat": 4,
 "nbformat_minor": 5
}
