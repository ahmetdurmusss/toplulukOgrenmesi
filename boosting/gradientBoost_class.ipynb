{
 "cells": [
  {
   "cell_type": "code",
   "execution_count": 1,
   "id": "6819481b",
   "metadata": {},
   "outputs": [],
   "source": [
    "# Kutuphanelerin eklenmesi\n",
    "from sklearn.datasets import load_digits\n",
    "from sklearn.model_selection import train_test_split\n",
    "from sklearn.ensemble import GradientBoostingClassifier\n",
    "from sklearn.metrics import accuracy_score, classification_report\n",
    "import matplotlib.pyplot as plt"
   ]
  },
  {
   "cell_type": "code",
   "execution_count": 2,
   "id": "80fa0fff",
   "metadata": {},
   "outputs": [],
   "source": [
    "# Veri setini yükle\n",
    "digits = load_digits()\n",
    "X = digits.data\n",
    "y = digits.target"
   ]
  },
  {
   "cell_type": "code",
   "execution_count": 3,
   "id": "364b2fc0",
   "metadata": {},
   "outputs": [
    {
     "data": {
      "image/png": "[encoded data removed]",
      "text/plain": [
       "<Figure size 800x400 with 2 Axes>"
      ]
     },
     "metadata": {},
     "output_type": "display_data"
    }
   ],
   "source": [
    "# Veri seti görselleştir\n",
    "fig, axes = plt.subplots(1, 2, figsize=(8, 4))\n",
    "for i, ax in enumerate(axes):\n",
    "    ax.imshow(digits.images[i], cmap=\"gray\")\n",
    "    ax.set_title(f\"Label: {digits.target[i]}\")\n",
    "    ax.axis(\"off\")\n",
    "plt.show()"
   ]
  },
  {
   "cell_type": "code",
   "execution_count": 4,
   "id": "849cc522",
   "metadata": {},
   "outputs": [],
   "source": [
    "# Train-test ayırımı\n",
    "X_train, X_test, y_train, y_test = train_test_split(X, y, test_size=0.3, random_state=42)\n",
    "\n",
    "# Model tanımı - Gradient Boosting Classifier\n",
    "gb_clf = GradientBoostingClassifier(\n",
    "    n_estimators=150,         # Ağaç sayısı\n",
    "    learning_rate=0.05,       # Küçük öğrenme oranı\n",
    "    max_depth=4,              # Ağacın derinliği\n",
    "    subsample=0.8,            # Her ağacı verinin %80'i ile eğit\n",
    "    min_samples_split=5,      # Dallanma için gereken min örnek sayısı\n",
    "    min_samples_leaf=3,       # Yaprakta en az 3 örnek olmalı\n",
    "    max_features=\"sqrt\",      # Özelliklerin karekökü kadarını kullan\n",
    "    validation_fraction=0.1,  # %10 validation\n",
    "    n_iter_no_change=5,       # 5 iterasyon boyunca iyileşme yoksa dur\n",
    "    random_state=42\n",
    ")"
   ]
  },
  {
   "cell_type": "code",
   "execution_count": 5,
   "id": "28ca2b1a",
   "metadata": {},
   "outputs": [],
   "source": [
    "# Model eğitimi ve tahmin\n",
    "gb_clf.fit(X_train, y_train)\n",
    "y_pred = gb_clf.predict(X_test)"
   ]
  },
  {
   "cell_type": "code",
   "execution_count": 6,
   "id": "79544af4",
   "metadata": {},
   "outputs": [
    {
     "name": "stdout",
     "output_type": "stream",
     "text": [
      "GB Accuracy: 0.9740740740740741\n",
      "GB Classification Report: \n",
      "              precision    recall  f1-score   support\n",
      "\n",
      "           0       0.98      0.98      0.98        53\n",
      "           1       1.00      1.00      1.00        50\n",
      "           2       1.00      1.00      1.00        47\n",
      "           3       0.98      0.94      0.96        54\n",
      "           4       0.98      1.00      0.99        60\n",
      "           5       0.96      0.97      0.96        66\n",
      "           6       0.98      0.98      0.98        53\n",
      "           7       0.98      0.98      0.98        55\n",
      "           8       0.91      0.98      0.94        43\n",
      "           9       0.96      0.92      0.94        59\n",
      "\n",
      "    accuracy                           0.97       540\n",
      "   macro avg       0.97      0.98      0.97       540\n",
      "weighted avg       0.97      0.97      0.97       540\n",
      "\n"
     ]
    }
   ],
   "source": [
    "# Model değerlendirme\n",
    "print(f\"GB Accuracy: {accuracy_score(y_test, y_pred)}\")\n",
    "print(f\"GB Classification Report: \\n{classification_report(y_test, y_pred)}\")"
   ]
  }
 ],
 "metadata": {
  "kernelspec": {
   "display_name": "Python 3",
   "language": "python",
   "name": "python3"
  },
  "language_info": {
   "codemirror_mode": {
    "name": "ipython",
    "version": 3
   },
   "file_extension": ".py",
   "mimetype": "text/x-python",
   "name": "python",
   "nbconvert_exporter": "python",
   "pygments_lexer": "ipython3",
   "version": "3.11.4"
  }
 },
 "nbformat": 4,
 "nbformat_minor": 5
}
