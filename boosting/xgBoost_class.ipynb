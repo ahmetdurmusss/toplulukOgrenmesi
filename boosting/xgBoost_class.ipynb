{
 "cells": [
  {
   "cell_type": "code",
   "execution_count": 1,
   "id": "d7da7ec0",
   "metadata": {},
   "outputs": [],
   "source": [
    "# import libraries\n",
    "from xgboost import XGBClassifier\n",
    "from sklearn.datasets import load_digits\n",
    "from sklearn.model_selection import train_test_split\n",
    "from sklearn.metrics import accuracy_score, classification_report\n",
    "import matplotlib.pyplot as plt"
   ]
  },
  {
   "cell_type": "code",
   "execution_count": 2,
   "id": "7348c660",
   "metadata": {},
   "outputs": [],
   "source": [
    "# rakamlar veri setini yükle\n",
    "digits = load_digits()\n",
    "X = digits.data\n",
    "y = digits.target"
   ]
  },
  {
   "cell_type": "code",
   "execution_count": 3,
   "id": "f3b29c3a",
   "metadata": {},
   "outputs": [
    {
     "data": {
      "image/png": "[encoded data removed]",
      "text/plain": [
       "<Figure size 800x400 with 2 Axes>"
      ]
     },
     "metadata": {},
     "output_type": "display_data"
    }
   ],
   "source": [
    "# örnek görselleştirme\n",
    "fig, axes = plt.subplots(1, 2, figsize=(8, 4))\n",
    "for i, ax in enumerate(axes):\n",
    "    ax.imshow(digits.images[i], cmap=\"gray\")\n",
    "    ax.set_title(f\"Label: {digits.target[i]}\")\n",
    "    ax.axis(\"off\")\n",
    "plt.show()"
   ]
  },
  {
   "cell_type": "code",
   "execution_count": 4,
   "id": "8bdc67a2",
   "metadata": {},
   "outputs": [],
   "source": [
    "# veriyi böl: train/test split\n",
    "X_train, X_test, y_train, y_test = train_test_split(X, y, test_size=0.2, random_state=42)"
   ]
  },
  {
   "cell_type": "code",
   "execution_count": 5,
   "id": "15a11844",
   "metadata": {},
   "outputs": [],
   "source": [
    "# XGBoost modeli tanımlama\n",
    "xgb_clf = XGBClassifier(\n",
    "    n_estimators=150,         # ağaç sayısı\n",
    "    learning_rate=0.05,       # öğrenme oranı\n",
    "    max_depth=4,              # maksimum ağaç derinliği\n",
    "    subsample=0.8,            # her ağacın verisinin %80'i ile eğitilmesi\n",
    "    colsample_bytree=0.5,     # özelliklerin %50'si kullanılsın\n",
    "    min_child_weight=3,       # yapraktaki min örnek sayısı\n",
    "    gamma=0,                  # minimum kayıp iyileşmesi\n",
    "    early_stopping_rounds=5,  # erken durdurma için\n",
    "    eval_metric=\"mlogloss\",   # çok sınıflı log loss değerlendirme metrik\n",
    "    random_state=42,\n",
    "    use_label_encoder=False   # uyarıları kapat\n",
    ")"
   ]
  },
  {
   "cell_type": "code",
   "execution_count": 6,
   "id": "37d7fd85",
   "metadata": {},
   "outputs": [
    {
     "name": "stdout",
     "output_type": "stream",
     "text": [
      "[0]\tvalidation_0-mlogloss:2.16151\n",
      "[1]\tvalidation_0-mlogloss:2.03466\n",
      "[2]\tvalidation_0-mlogloss:1.92645\n",
      "[3]\tvalidation_0-mlogloss:1.82439\n",
      "[4]\tvalidation_0-mlogloss:1.73542\n",
      "[5]\tvalidation_0-mlogloss:1.65331\n",
      "[6]\tvalidation_0-mlogloss:1.58074\n",
      "[7]\tvalidation_0-mlogloss:1.50813\n",
      "[8]\tvalidation_0-mlogloss:1.44527\n",
      "[9]\tvalidation_0-mlogloss:1.38802\n",
      "[10]\tvalidation_0-mlogloss:1.33297\n",
      "[11]\tvalidation_0-mlogloss:1.27847\n",
      "[12]\tvalidation_0-mlogloss:1.23048\n",
      "[13]\tvalidation_0-mlogloss:1.18369\n",
      "[14]\tvalidation_0-mlogloss:1.14166\n",
      "[15]\tvalidation_0-mlogloss:1.09876\n",
      "[16]\tvalidation_0-mlogloss:1.06139\n",
      "[17]\tvalidation_0-mlogloss:1.02472\n",
      "[18]\tvalidation_0-mlogloss:0.98845\n",
      "[19]\tvalidation_0-mlogloss:0.95554\n",
      "[20]\tvalidation_0-mlogloss:0.92429\n",
      "[21]\tvalidation_0-mlogloss:0.89448\n",
      "[22]\tvalidation_0-mlogloss:0.86625\n",
      "[23]\tvalidation_0-mlogloss:0.84082\n",
      "[24]\tvalidation_0-mlogloss:0.81418\n",
      "[25]\tvalidation_0-mlogloss:0.78695\n",
      "[26]\tvalidation_0-mlogloss:0.76350\n",
      "[27]\tvalidation_0-mlogloss:0.74081\n",
      "[28]\tvalidation_0-mlogloss:0.71770\n",
      "[29]\tvalidation_0-mlogloss:0.69688\n",
      "[30]\tvalidation_0-mlogloss:0.67649\n",
      "[31]\tvalidation_0-mlogloss:0.65683\n",
      "[32]\tvalidation_0-mlogloss:0.63853\n"
     ]
    },
    {
     "name": "stderr",
     "output_type": "stream",
     "text": [
      "c:\\Users\\AhmetD\\AppData\\Local\\Programs\\Python\\Python311\\Lib\\site-packages\\xgboost\\core.py:158: UserWarning: [13:26:41] WARNING: C:\\buildkite-agent\\builds\\buildkite-windows-cpu-autoscaling-group-i-0c55ff5f71b100e98-1\\xgboost\\xgboost-ci-windows\\src\\learner.cc:740: \n",
      "Parameters: { \"use_label_encoder\" } are not used.\n",
      "\n",
      "  warnings.warn(smsg, UserWarning)\n"
     ]
    },
    {
     "name": "stdout",
     "output_type": "stream",
     "text": [
      "[33]\tvalidation_0-mlogloss:0.62110\n",
      "[34]\tvalidation_0-mlogloss:0.60345\n",
      "[35]\tvalidation_0-mlogloss:0.58665\n",
      "[36]\tvalidation_0-mlogloss:0.57175\n",
      "[37]\tvalidation_0-mlogloss:0.55655\n",
      "[38]\tvalidation_0-mlogloss:0.54164\n",
      "[39]\tvalidation_0-mlogloss:0.52729\n",
      "[40]\tvalidation_0-mlogloss:0.51465\n",
      "[41]\tvalidation_0-mlogloss:0.50194\n",
      "[42]\tvalidation_0-mlogloss:0.48934\n",
      "[43]\tvalidation_0-mlogloss:0.47687\n",
      "[44]\tvalidation_0-mlogloss:0.46477\n",
      "[45]\tvalidation_0-mlogloss:0.45373\n",
      "[46]\tvalidation_0-mlogloss:0.44324\n",
      "[47]\tvalidation_0-mlogloss:0.43278\n",
      "[48]\tvalidation_0-mlogloss:0.42298\n",
      "[49]\tvalidation_0-mlogloss:0.41256\n",
      "[50]\tvalidation_0-mlogloss:0.40365\n",
      "[51]\tvalidation_0-mlogloss:0.39426\n",
      "[52]\tvalidation_0-mlogloss:0.38543\n",
      "[53]\tvalidation_0-mlogloss:0.37712\n",
      "[54]\tvalidation_0-mlogloss:0.36906\n",
      "[55]\tvalidation_0-mlogloss:0.36064\n",
      "[56]\tvalidation_0-mlogloss:0.35283\n",
      "[57]\tvalidation_0-mlogloss:0.34601\n",
      "[58]\tvalidation_0-mlogloss:0.33918\n",
      "[59]\tvalidation_0-mlogloss:0.33238\n",
      "[60]\tvalidation_0-mlogloss:0.32568\n",
      "[61]\tvalidation_0-mlogloss:0.31884\n",
      "[62]\tvalidation_0-mlogloss:0.31266\n",
      "[63]\tvalidation_0-mlogloss:0.30669\n",
      "[64]\tvalidation_0-mlogloss:0.30018\n",
      "[65]\tvalidation_0-mlogloss:0.29497\n",
      "[66]\tvalidation_0-mlogloss:0.28948\n",
      "[67]\tvalidation_0-mlogloss:0.28451\n",
      "[68]\tvalidation_0-mlogloss:0.27891\n",
      "[69]\tvalidation_0-mlogloss:0.27386\n",
      "[70]\tvalidation_0-mlogloss:0.26915\n",
      "[71]\tvalidation_0-mlogloss:0.26433\n",
      "[72]\tvalidation_0-mlogloss:0.25932\n",
      "[73]\tvalidation_0-mlogloss:0.25503\n",
      "[74]\tvalidation_0-mlogloss:0.25139\n",
      "[75]\tvalidation_0-mlogloss:0.24776\n",
      "[76]\tvalidation_0-mlogloss:0.24395\n",
      "[77]\tvalidation_0-mlogloss:0.23989\n",
      "[78]\tvalidation_0-mlogloss:0.23630\n",
      "[79]\tvalidation_0-mlogloss:0.23321\n",
      "[80]\tvalidation_0-mlogloss:0.22916\n",
      "[81]\tvalidation_0-mlogloss:0.22587\n",
      "[82]\tvalidation_0-mlogloss:0.22306\n",
      "[83]\tvalidation_0-mlogloss:0.22007\n",
      "[84]\tvalidation_0-mlogloss:0.21719\n",
      "[85]\tvalidation_0-mlogloss:0.21379\n",
      "[86]\tvalidation_0-mlogloss:0.21050\n",
      "[87]\tvalidation_0-mlogloss:0.20762\n",
      "[88]\tvalidation_0-mlogloss:0.20493\n",
      "[89]\tvalidation_0-mlogloss:0.20234\n",
      "[90]\tvalidation_0-mlogloss:0.19977\n",
      "[91]\tvalidation_0-mlogloss:0.19737\n",
      "[92]\tvalidation_0-mlogloss:0.19492\n",
      "[93]\tvalidation_0-mlogloss:0.19283\n",
      "[94]\tvalidation_0-mlogloss:0.19047\n",
      "[95]\tvalidation_0-mlogloss:0.18841\n",
      "[96]\tvalidation_0-mlogloss:0.18579\n",
      "[97]\tvalidation_0-mlogloss:0.18368\n",
      "[98]\tvalidation_0-mlogloss:0.18134\n",
      "[99]\tvalidation_0-mlogloss:0.17887\n",
      "[100]\tvalidation_0-mlogloss:0.17646\n",
      "[101]\tvalidation_0-mlogloss:0.17478\n",
      "[102]\tvalidation_0-mlogloss:0.17295\n",
      "[103]\tvalidation_0-mlogloss:0.17135\n",
      "[104]\tvalidation_0-mlogloss:0.16920\n",
      "[105]\tvalidation_0-mlogloss:0.16758\n",
      "[106]\tvalidation_0-mlogloss:0.16591\n",
      "[107]\tvalidation_0-mlogloss:0.16452\n",
      "[108]\tvalidation_0-mlogloss:0.16295\n",
      "[109]\tvalidation_0-mlogloss:0.16139\n",
      "[110]\tvalidation_0-mlogloss:0.15963\n",
      "[111]\tvalidation_0-mlogloss:0.15802\n",
      "[112]\tvalidation_0-mlogloss:0.15643\n",
      "[113]\tvalidation_0-mlogloss:0.15456\n",
      "[114]\tvalidation_0-mlogloss:0.15311\n",
      "[115]\tvalidation_0-mlogloss:0.15193\n",
      "[116]\tvalidation_0-mlogloss:0.15053\n",
      "[117]\tvalidation_0-mlogloss:0.14934\n",
      "[118]\tvalidation_0-mlogloss:0.14796\n",
      "[119]\tvalidation_0-mlogloss:0.14674\n",
      "[120]\tvalidation_0-mlogloss:0.14542\n",
      "[121]\tvalidation_0-mlogloss:0.14419\n",
      "[122]\tvalidation_0-mlogloss:0.14316\n",
      "[123]\tvalidation_0-mlogloss:0.14175\n",
      "[124]\tvalidation_0-mlogloss:0.14075\n",
      "[125]\tvalidation_0-mlogloss:0.13980\n",
      "[126]\tvalidation_0-mlogloss:0.13909\n",
      "[127]\tvalidation_0-mlogloss:0.13786\n",
      "[128]\tvalidation_0-mlogloss:0.13689\n",
      "[129]\tvalidation_0-mlogloss:0.13558\n",
      "[130]\tvalidation_0-mlogloss:0.13455\n",
      "[131]\tvalidation_0-mlogloss:0.13359\n",
      "[132]\tvalidation_0-mlogloss:0.13282\n",
      "[133]\tvalidation_0-mlogloss:0.13181\n",
      "[134]\tvalidation_0-mlogloss:0.13074\n",
      "[135]\tvalidation_0-mlogloss:0.13004\n",
      "[136]\tvalidation_0-mlogloss:0.12914\n",
      "[137]\tvalidation_0-mlogloss:0.12815\n",
      "[138]\tvalidation_0-mlogloss:0.12726\n",
      "[139]\tvalidation_0-mlogloss:0.12637\n",
      "[140]\tvalidation_0-mlogloss:0.12566\n",
      "[141]\tvalidation_0-mlogloss:0.12512\n",
      "[142]\tvalidation_0-mlogloss:0.12428\n",
      "[143]\tvalidation_0-mlogloss:0.12374\n",
      "[144]\tvalidation_0-mlogloss:0.12314\n",
      "[145]\tvalidation_0-mlogloss:0.12247\n",
      "[146]\tvalidation_0-mlogloss:0.12161\n",
      "[147]\tvalidation_0-mlogloss:0.12088\n",
      "[148]\tvalidation_0-mlogloss:0.12022\n",
      "[149]\tvalidation_0-mlogloss:0.11963\n"
     ]
    }
   ],
   "source": [
    "# training\n",
    "xgb_clf.fit(X_train, y_train, eval_set=[(X_test, y_test)], verbose=True)\n",
    "\n",
    "# prediction\n",
    "y_pred = xgb_clf.predict(X_test)"
   ]
  },
  {
   "cell_type": "code",
   "execution_count": 7,
   "id": "9287e241",
   "metadata": {},
   "outputs": [
    {
     "name": "stdout",
     "output_type": "stream",
     "text": [
      "XGBoost Classifier Accuracy: 0.9694444444444444\n",
      "XGBoost Classifier classification_report: \n",
      "              precision    recall  f1-score   support\n",
      "\n",
      "           0       1.00      0.97      0.98        33\n",
      "           1       0.97      1.00      0.98        28\n",
      "           2       1.00      1.00      1.00        33\n",
      "           3       1.00      0.97      0.99        34\n",
      "           4       0.98      1.00      0.99        46\n",
      "           5       0.94      0.94      0.94        47\n",
      "           6       0.97      0.97      0.97        35\n",
      "           7       0.97      0.97      0.97        34\n",
      "           8       0.97      0.93      0.95        30\n",
      "           9       0.93      0.95      0.94        40\n",
      "\n",
      "    accuracy                           0.97       360\n",
      "   macro avg       0.97      0.97      0.97       360\n",
      "weighted avg       0.97      0.97      0.97       360\n",
      "\n"
     ]
    }
   ],
   "source": [
    "# evaluation: accuracy, classification report\n",
    "print(f\"XGBoost Classifier Accuracy: {accuracy_score(y_test, y_pred)}\")\n",
    "print(f\"XGBoost Classifier classification_report: \\n{classification_report(y_test, y_pred)}\")\n"
   ]
  }
 ],
 "metadata": {
  "kernelspec": {
   "display_name": "Python 3",
   "language": "python",
   "name": "python3"
  },
  "language_info": {
   "codemirror_mode": {
    "name": "ipython",
    "version": 3
   },
   "file_extension": ".py",
   "mimetype": "text/x-python",
   "name": "python",
   "nbconvert_exporter": "python",
   "pygments_lexer": "ipython3",
   "version": "3.11.4"
  }
 },
 "nbformat": 4,
 "nbformat_minor": 5
}
