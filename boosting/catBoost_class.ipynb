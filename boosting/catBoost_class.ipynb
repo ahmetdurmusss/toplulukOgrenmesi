{
 "cells": [
  {
   "cell_type": "code",
   "execution_count": 1,
   "id": "b1462f3a",
   "metadata": {},
   "outputs": [],
   "source": [
    "# import libraries\n",
    "import pandas as pd\n",
    "from catboost import CatBoostClassifier\n",
    "from sklearn.model_selection import train_test_split\n",
    "from sklearn.metrics import accuracy_score, classification_report, confusion_matrix\n",
    "import seaborn as sns\n",
    "import matplotlib.pyplot as plt"
   ]
  },
  {
   "cell_type": "code",
   "execution_count": 2,
   "id": "81a9a214",
   "metadata": {},
   "outputs": [],
   "source": [
    "# veri setini oku\n",
    "diamonds = sns.load_dataset('diamonds')\n",
    "\n",
    "# data preprocessing\n",
    "diamonds[\"price_category\"] = (diamonds[\"price\"] > 3000).astype(int)\n",
    "X = diamonds.drop(columns=[\"price\", \"price_category\"])\n",
    "y = diamonds[\"price_category\"]\n",
    "\n",
    "# train ve test split\n",
    "X_train, X_test, y_train, y_test = train_test_split(X, y, test_size=0.1, random_state=42)"
   ]
  },
  {
   "cell_type": "code",
   "execution_count": 3,
   "id": "f5842ff8",
   "metadata": {},
   "outputs": [],
   "source": [
    "# CatBoost modeli tanımla\n",
    "cat_clf = CatBoostClassifier(\n",
    "    iterations=500,                 # toplam iterasyon (ağaç) sayısı\n",
    "    learning_rate=0.05,             # öğrenme oranı\n",
    "    depth=8,                        # ağaç derinliği\n",
    "    l2_leaf_reg=5,                  # L2 düzenleme katsayısı\n",
    "    loss_function=\"Logloss\",       # ikili sınıflandırma için log loss\n",
    "    eval_metric=\"Accuracy\",        # değerlendirme metrik\n",
    "    cat_features=['cut', 'color', 'clarity'],  # kategorik değişkenler\n",
    "    random_state=42,\n",
    "    verbose=100,                   # her 100 iterasyonda çıktı ver\n",
    "    early_stopping_rounds=30       # iyileşme olmazsa erken durdur\n",
    ")"
   ]
  },
  {
   "cell_type": "code",
   "execution_count": 4,
   "id": "f0b8aba1",
   "metadata": {},
   "outputs": [
    {
     "name": "stdout",
     "output_type": "stream",
     "text": [
      "0:\tlearn: 0.9537758\ttest: 0.9521691\tbest: 0.9521691 (0)\ttotal: 165ms\tremaining: 1m 22s\n",
      "100:\tlearn: 0.9820583\ttest: 0.9840564\tbest: 0.9840564 (99)\ttotal: 4.79s\tremaining: 18.9s\n",
      "Stopped by overfitting detector  (30 iterations wait)\n",
      "\n",
      "bestTest = 0.9840563589\n",
      "bestIteration = 99\n",
      "\n",
      "Shrink model to first 100 iterations.\n"
     ]
    }
   ],
   "source": [
    "# model eğitimi\n",
    "cat_clf.fit(X_train, y_train, eval_set=(X_test, y_test))\n",
    "\n",
    "# tahmin\n",
    "y_pred = cat_clf.predict(X_test)"
   ]
  },
  {
   "cell_type": "code",
   "execution_count": 5,
   "id": "34755e01",
   "metadata": {},
   "outputs": [
    {
     "name": "stdout",
     "output_type": "stream",
     "text": [
      "Acc: 0.9840563589173156\n",
      "Classification report: \n",
      "              precision    recall  f1-score   support\n",
      "\n",
      "           0       0.98      0.99      0.99      3065\n",
      "           1       0.98      0.98      0.98      2329\n",
      "\n",
      "    accuracy                           0.98      5394\n",
      "   macro avg       0.98      0.98      0.98      5394\n",
      "weighted avg       0.98      0.98      0.98      5394\n",
      "\n"
     ]
    },
    {
     "data": {
      "image/png": "[encoded data removed]",
      "text/plain": [
       "<Figure size 640x480 with 2 Axes>"
      ]
     },
     "metadata": {},
     "output_type": "display_data"
    }
   ],
   "source": [
    "# değerlendirme\n",
    "print(f\"Acc: {accuracy_score(y_test, y_pred)}\")\n",
    "print(f\"Classification report: \\n{classification_report(y_test, y_pred)}\")\n",
    "\n",
    "# confusion matrix görselleştirme\n",
    "plt.figure()\n",
    "sns.heatmap(confusion_matrix(y_test, y_pred), annot=True, fmt=\"d\", cmap=\"Blues\")\n",
    "plt.xlabel(\"Tahmin\")\n",
    "plt.ylabel(\"Gerçek\")\n",
    "plt.show()"
   ]
  }
 ],
 "metadata": {
  "kernelspec": {
   "display_name": "Python 3",
   "language": "python",
   "name": "python3"
  },
  "language_info": {
   "codemirror_mode": {
    "name": "ipython",
    "version": 3
   },
   "file_extension": ".py",
   "mimetype": "text/x-python",
   "name": "python",
   "nbconvert_exporter": "python",
   "pygments_lexer": "ipython3",
   "version": "3.11.4"
  }
 },
 "nbformat": 4,
 "nbformat_minor": 5
}
