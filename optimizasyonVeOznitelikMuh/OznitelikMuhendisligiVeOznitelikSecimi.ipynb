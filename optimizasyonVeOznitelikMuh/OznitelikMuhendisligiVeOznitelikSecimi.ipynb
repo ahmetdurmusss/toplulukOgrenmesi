{
 "cells": [
  {
   "cell_type": "code",
   "execution_count": 1,
   "id": "18bdb50f",
   "metadata": {},
   "outputs": [],
   "source": [
    "# import libraries\n",
    "from sklearn.ensemble import AdaBoostClassifier\n",
    "from sklearn.tree import DecisionTreeClassifier\n",
    "from sklearn.datasets import load_breast_cancer\n",
    "from sklearn.model_selection import train_test_split\n",
    "from sklearn.feature_selection import SelectFromModel\n",
    "from sklearn.metrics import accuracy_score"
   ]
  },
  {
   "cell_type": "code",
   "execution_count": 2,
   "id": "102e3b70",
   "metadata": {},
   "outputs": [],
   "source": [
    "# load data: breast cancer\n",
    "data = load_breast_cancer()\n",
    "X = data.data\n",
    "y = data.target\n",
    "\n",
    "# train test split\n",
    "X_train, X_test, y_train, y_test = train_test_split(X, y, test_size=0.3, random_state=42)"
   ]
  },
  {
   "cell_type": "code",
   "execution_count": 3,
   "id": "09a0e1ba",
   "metadata": {},
   "outputs": [],
   "source": [
    "# define ada boost model\n",
    "ada = AdaBoostClassifier(\n",
    "    estimator=DecisionTreeClassifier(max_depth=1),  # base (weak) learner\n",
    "    n_estimators=100,  # ağaç sayısı\n",
    "    learning_rate=0.5,  # öğrenme oranı\n",
    "    random_state=42\n",
    ")"
   ]
  },
  {
   "cell_type": "code",
   "execution_count": 4,
   "id": "a72181ee",
   "metadata": {},
   "outputs": [
    {
     "name": "stdout",
     "output_type": "stream",
     "text": [
      "AdaBoost Test Acc: 0.9649122807017544\n"
     ]
    }
   ],
   "source": [
    "# training\n",
    "ada.fit(X_train, y_train)\n",
    "\n",
    "# prediction and evaluation\n",
    "y_pred = ada.predict(X_test)\n",
    "print(f\"AdaBoost Test Acc: {accuracy_score(y_test, y_pred)}\")"
   ]
  },
  {
   "cell_type": "code",
   "execution_count": 5,
   "id": "c235b2d9",
   "metadata": {},
   "outputs": [],
   "source": [
    "# feature engineering: feature importance\n",
    "importance = ada.feature_importances_\n",
    "selector = SelectFromModel(ada, threshold=\"mean\", prefit=True)\n",
    "X_train_selected = selector.transform(X_train)\n",
    "X_test_selected = selector.transform(X_test)"
   ]
  },
  {
   "cell_type": "code",
   "execution_count": 6,
   "id": "12122acf",
   "metadata": {},
   "outputs": [
    {
     "name": "stdout",
     "output_type": "stream",
     "text": [
      "AdaBoost Feature Selection Test Acc: 0.9707602339181286\n"
     ]
    }
   ],
   "source": [
    "# seçilen özniteliklere göre yeni model eğitimi, testi, evaluation\n",
    "ada_selected = AdaBoostClassifier(\n",
    "    estimator=DecisionTreeClassifier(max_depth=1),\n",
    "    n_estimators=100,\n",
    "    learning_rate=0.5,\n",
    "    random_state=42\n",
    ")\n",
    "\n",
    "ada_selected.fit(X_train_selected, y_train)\n",
    "y_pred_selected = ada_selected.predict(X_test_selected)\n",
    "print(f\"AdaBoost Feature Selection Test Acc: {accuracy_score(y_test, y_pred_selected)}\")\n"
   ]
  }
 ],
 "metadata": {
  "kernelspec": {
   "display_name": "Python 3",
   "language": "python",
   "name": "python3"
  },
  "language_info": {
   "codemirror_mode": {
    "name": "ipython",
    "version": 3
   },
   "file_extension": ".py",
   "mimetype": "text/x-python",
   "name": "python",
   "nbconvert_exporter": "python",
   "pygments_lexer": "ipython3",
   "version": "3.11.4"
  }
 },
 "nbformat": 4,
 "nbformat_minor": 5
}
