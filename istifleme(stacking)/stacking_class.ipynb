{
 "cells": [
  {
   "cell_type": "markdown",
   "id": "981b96cf",
   "metadata": {},
   "source": [
    "Istifleme (Stacking) Nedir?\n",
    "\n",
    "- Stacking, farkli makine ogrenimi modellerinin (alt modellerin) tahminlerini birlestirerek daha guclu bir tahmin model (meta model) olusturan bir ensemble yontemidir.\n",
    "\n",
    "- Temel fikir, bireysel modellerin zayif yonlerini telafi etmek ve genneleme yetenegini arttirmaktir."
   ]
  },
  {
   "cell_type": "markdown",
   "id": "6d08d596",
   "metadata": {},
   "source": [
    "Istifleme Genel Surec\n",
    "\n",
    "- Egitim verisi alt modellere verilir ve her biri kendi tahminlerini uretir.\n",
    "\n",
    "- Bu tahminler, meta modelin egitimi icin yeni bir ozellik seti olarak kullanilir.\n",
    "\n",
    "- Meta model, nihai tahmini yapar.\n",
    "\n",
    "- Ornek: Lojistik regresyon, karar agaclari ve SVM gibi farkli modellerin tahminlerini birlestirip, ustune bir lineer regresyon modeli egitmek."
   ]
  },
  {
   "cell_type": "code",
   "execution_count": 1,
   "id": "f605cc25",
   "metadata": {},
   "outputs": [],
   "source": [
    "# import libraries\n",
    "from sklearn.datasets import load_breast_cancer\n",
    "from sklearn.ensemble import StackingClassifier\n",
    "from sklearn.linear_model import LogisticRegression\n",
    "from sklearn.tree import DecisionTreeClassifier\n",
    "from sklearn.svm import SVC\n",
    "from sklearn.metrics import accuracy_score, classification_report\n",
    "from sklearn.model_selection import train_test_split"
   ]
  },
  {
   "cell_type": "code",
   "execution_count": 2,
   "id": "cb39cb66",
   "metadata": {},
   "outputs": [],
   "source": [
    "# load data set: breast cancer\n",
    "data = load_breast_cancer()\n",
    "X = data.data\n",
    "y = data.target\n",
    "\n",
    "# train test split\n",
    "X_train, X_test, y_train, y_test = train_test_split(X, y, test_size=0.3, random_state=42)"
   ]
  },
  {
   "cell_type": "code",
   "execution_count": 3,
   "id": "43e60628",
   "metadata": {},
   "outputs": [],
   "source": [
    "# define base models: DT, SVM\n",
    "base_models = [\n",
    "    (\"dt\", DecisionTreeClassifier(max_depth=5, random_state=42)),\n",
    "    (\"svc\", SVC(probability=True, kernel=\"rbf\", C=1, random_state=42))\n",
    "]\n",
    "\n",
    "# Define Meta model: Logistic Regression\n",
    "meta_model = LogisticRegression()\n",
    "\n",
    "# Define Stacking Classifier\n",
    "stacking_clf = StackingClassifier(\n",
    "    estimators=base_models,           # base models: dt, svc\n",
    "    final_estimator=meta_model,       # meta model: logistic regression\n",
    "    cv=5,                              # K fold cross validation\n",
    "    stack_method=\"predict_proba\"      # tahmin olasılıklarına göre bir sonuç üret\n",
    ")"
   ]
  },
  {
   "cell_type": "code",
   "execution_count": 4,
   "id": "77a0bc4c",
   "metadata": {},
   "outputs": [],
   "source": [
    "# model training and testing\n",
    "stacking_clf.fit(X_train, y_train)\n",
    "y_pred = stacking_clf.predict(X_test)"
   ]
  },
  {
   "cell_type": "code",
   "execution_count": 5,
   "id": "0a30351e",
   "metadata": {},
   "outputs": [
    {
     "name": "stdout",
     "output_type": "stream",
     "text": [
      "Stacking Classifier Acc: 0.9649122807017544\n",
      "Classification report \n",
      ":               precision    recall  f1-score   support\n",
      "\n",
      "           0       0.95      0.95      0.95        63\n",
      "           1       0.97      0.97      0.97       108\n",
      "\n",
      "    accuracy                           0.96       171\n",
      "   macro avg       0.96      0.96      0.96       171\n",
      "weighted avg       0.96      0.96      0.96       171\n",
      "\n"
     ]
    }
   ],
   "source": [
    "# model training and testing\n",
    "stacking_clf.fit(X_train, y_train)\n",
    "y_pred = stacking_clf.predict(X_test)\n",
    "\n",
    "# evaluation: accuracy score, classification report\n",
    "print(f\"Stacking Classifier Acc: {accuracy_score(y_test, y_pred)}\")\n",
    "print(f\"Classification report \\n: {classification_report(y_test, y_pred)}\")\n"
   ]
  }
 ],
 "metadata": {
  "kernelspec": {
   "display_name": "Python 3",
   "language": "python",
   "name": "python3"
  },
  "language_info": {
   "codemirror_mode": {
    "name": "ipython",
    "version": 3
   },
   "file_extension": ".py",
   "mimetype": "text/x-python",
   "name": "python",
   "nbconvert_exporter": "python",
   "pygments_lexer": "ipython3",
   "version": "3.11.4"
  }
 },
 "nbformat": 4,
 "nbformat_minor": 5
}
