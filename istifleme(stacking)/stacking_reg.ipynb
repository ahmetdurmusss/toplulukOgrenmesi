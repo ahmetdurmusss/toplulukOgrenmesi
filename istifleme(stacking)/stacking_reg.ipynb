{
 "cells": [
  {
   "cell_type": "code",
   "execution_count": 1,
   "id": "5c12e032",
   "metadata": {},
   "outputs": [],
   "source": [
    "# import libraries\n",
    "from sklearn.datasets import fetch_california_housing\n",
    "from sklearn.model_selection import train_test_split\n",
    "from sklearn.ensemble import StackingRegressor\n",
    "from sklearn.linear_model import Ridge\n",
    "from sklearn.svm import SVR\n",
    "from sklearn.tree import DecisionTreeRegressor\n",
    "from sklearn.metrics import mean_squared_error, r2_score"
   ]
  },
  {
   "cell_type": "code",
   "execution_count": 2,
   "id": "ec6fa547",
   "metadata": {},
   "outputs": [],
   "source": [
    "# load data\n",
    "data = fetch_california_housing()\n",
    "X = data.data\n",
    "y = data.target\n",
    "# train test split\n",
    "X_train, X_test, y_train, y_test = train_test_split(X, y, test_size=0.1, random_state=42)"
   ]
  },
  {
   "cell_type": "code",
   "execution_count": 3,
   "id": "780abfd9",
   "metadata": {},
   "outputs": [],
   "source": [
    "# base models\n",
    "base_models = [\n",
    "    (\"dtr\", DecisionTreeRegressor(max_depth=5, random_state=42)),\n",
    "    (\"svr\", SVR(kernel=\"rbf\", C=100))\n",
    "]\n",
    "\n",
    "# meta model\n",
    "meta_model = Ridge(alpha=1)\n",
    "\n",
    "# stacking regressor\n",
    "stacking_reg = StackingRegressor(\n",
    "    estimators=base_models,\n",
    "    final_estimator=meta_model,\n",
    "    cv=5\n",
    ")"
   ]
  },
  {
   "cell_type": "code",
   "execution_count": 4,
   "id": "b127918f",
   "metadata": {},
   "outputs": [],
   "source": [
    "# training testing\n",
    "stacking_reg.fit(X_train, y_train)\n",
    "y_pred = stacking_reg.predict(X_test)"
   ]
  },
  {
   "cell_type": "code",
   "execution_count": 5,
   "id": "f64380ca",
   "metadata": {},
   "outputs": [
    {
     "name": "stdout",
     "output_type": "stream",
     "text": [
      "RMSE: 0.7100290316081117\n",
      "R2: 0.6219723391924905\n"
     ]
    }
   ],
   "source": [
    "# evaluation\n",
    "rmse = mean_squared_error(y_test, y_pred) ** 0.5  # karekök alarak RMSE hesapla\n",
    "r2 = r2_score(y_test, y_pred)\n",
    "\n",
    "print(f\"RMSE: {rmse}\")\n",
    "print(f\"R2: {r2}\")"
   ]
  }
 ],
 "metadata": {
  "kernelspec": {
   "display_name": "Python 3",
   "language": "python",
   "name": "python3"
  },
  "language_info": {
   "codemirror_mode": {
    "name": "ipython",
    "version": 3
   },
   "file_extension": ".py",
   "mimetype": "text/x-python",
   "name": "python",
   "nbconvert_exporter": "python",
   "pygments_lexer": "ipython3",
   "version": "3.11.4"
  }
 },
 "nbformat": 4,
 "nbformat_minor": 5
}
